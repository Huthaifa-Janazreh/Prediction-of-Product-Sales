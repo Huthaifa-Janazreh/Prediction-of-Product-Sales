{
 "cells": [
  {
   "cell_type": "markdown",
   "id": "418ff904-a154-4809-8a7b-1503f279a7b4",
   "metadata": {},
   "source": [
    "# Prediction of Products Sales\n",
    "## Huthaifa Janazreh"
   ]
  },
  {
   "cell_type": "code",
   "execution_count": null,
   "id": "d3128108-6669-43d7-98ce-6ee03a198b07",
   "metadata": {},
   "outputs": [],
   "source": []
  },
  {
   "cell_type": "markdown",
   "id": "180857b6-f367-4c23-9d46-fdb5cf18a933",
   "metadata": {},
   "source": [
    "## Project Overview"
   ]
  },
  {
   "cell_type": "code",
   "execution_count": null,
   "id": "8e8b85ab-406f-4c18-9da9-2b25407c0bd0",
   "metadata": {},
   "outputs": [],
   "source": []
  },
  {
   "cell_type": "markdown",
   "id": "25475177-802c-4b16-a46f-42559e0a6a44",
   "metadata": {},
   "source": [
    "## Load and Inspect Data"
   ]
  },
  {
   "cell_type": "code",
   "execution_count": null,
   "id": "c9eb11e8-b92b-4f26-9c7a-befc78c39089",
   "metadata": {},
   "outputs": [],
   "source": []
  },
  {
   "cell_type": "markdown",
   "id": "f44f0624-bae8-43d0-b1c7-6bfbd8b5cee9",
   "metadata": {},
   "source": [
    "## Clean Data"
   ]
  },
  {
   "cell_type": "code",
   "execution_count": null,
   "id": "c4073ca8-2b1c-4258-b049-0f56e44ebe45",
   "metadata": {},
   "outputs": [],
   "source": []
  },
  {
   "cell_type": "markdown",
   "id": "59986cb2-bd1b-4002-8ac7-6caddc2e7d85",
   "metadata": {},
   "source": [
    "## Exploratory Data analysis  "
   ]
  },
  {
   "cell_type": "code",
   "execution_count": null,
   "id": "84ecd258-e081-4742-a278-7de57aab5859",
   "metadata": {},
   "outputs": [],
   "source": []
  },
  {
   "cell_type": "markdown",
   "id": "61ef0a47-f30e-4061-bddc-91ceffc9e061",
   "metadata": {},
   "source": [
    "## Feature Inspection"
   ]
  },
  {
   "cell_type": "code",
   "execution_count": null,
   "id": "4597ff2e-8ae2-432f-b26f-2b22dc52c183",
   "metadata": {},
   "outputs": [],
   "source": []
  }
 ],
 "metadata": {
  "kernelspec": {
   "display_name": "Python 3 (ipykernel)",
   "language": "python",
   "name": "python3"
  },
  "language_info": {
   "codemirror_mode": {
    "name": "ipython",
    "version": 3
   },
   "file_extension": ".py",
   "mimetype": "text/x-python",
   "name": "python",
   "nbconvert_exporter": "python",
   "pygments_lexer": "ipython3",
   "version": "3.13.5"
  }
 },
 "nbformat": 4,
 "nbformat_minor": 5
}
